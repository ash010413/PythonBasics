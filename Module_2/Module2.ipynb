{
  "cells": [
    {
      "cell_type": "markdown",
      "metadata": {
        "id": "3HjJHaos3kM9"
      },
      "source": [
        "# Python Basics"
      ]
    },
    {
      "cell_type": "markdown",
      "metadata": {
        "id": "5dgywsPw3kNC"
      },
      "source": [
        "These assignments aim to get you acquainted with Python, which is an important requirement for all the research done at Solarillion Foundation. Apart from teaching you Python, these assignments also aim to make you a better programmer and cultivate better coding practices. \n",
        "\n",
        "Visit these links for more details: <br>\n",
        "PEP8 Practices: https://www.python.org/dev/peps/pep-0008/ <br>\n",
        "Check PEP8: http://pep8online.com <br>\n",
        "Python Reference: https://www.py4e.com/lessons <br>\n",
        "\n",
        "Do use Google efficiently, and refer to StackOverflow for clarifying any programming doubts. If you're still stuck, feel free to ask a TA to help you.\n",
        "\n",
        "Each task in the assignment comprises of at least two cells. There are function definitions wherein you will name the function(s), and write code to solve the problem at hand. You will call the function(s) in the last cell of each task, and check your output.\n",
        "\n",
        "We encourage you to play around and learn as much as possible, and be as creative as you can get. More than anything, have fun doing these assignments. Enjoy!"
      ]
    },
    {
      "cell_type": "markdown",
      "metadata": {
        "id": "jxE0Mz8v3kND"
      },
      "source": [
        "# Important\n",
        "* **Only the imports and functions must be present when you upload this notebook to GitHub for verification.** \n",
        "* **Do not upload it until you want to get it verified. Do not change function names or add extra cells or code, or remove anything.**\n",
        "* **For your rough work and four showing your code to TAs, use a different notebook with the name Module2Playground.ipynb and copy only the final functions to this notebook for verification.**"
      ]
    },
    {
      "cell_type": "markdown",
      "metadata": {
        "id": "cgOan3LY3kND"
      },
      "source": [
        "# Module 2\n",
        "Scope: NumPy, pandas, pickle, matplotlib, File operations"
      ]
    },
    {
      "cell_type": "markdown",
      "metadata": {
        "id": "3ro7iOSx3kNE"
      },
      "source": [
        "## Imports - Always Execute First!\n",
        "Import any modules and turn on any magic here:"
      ]
    },
    {
      "cell_type": "code",
      "source": [
        "!pip install pycodestyle_magic\n",
        "!pip install pycodestyle\n",
        "!pip install flake8"
      ],
      "metadata": {
        "id": "3sekufyt3tyk"
      },
      "execution_count": 185,
      "outputs": []
    },
    {
      "cell_type": "code",
      "execution_count": 186,
      "metadata": {
        "id": "6pjmpFOq3kNF"
      },
      "outputs": [],
      "source": [
        "import matplotlib as mpl\n",
        "import matplotlib.pyplot as plt\n",
        "import numpy as np\n",
        "import pandas as pd\n",
        "import pickle as pkl\n",
        "from IPython import get_ipython\n",
        "ipy = get_ipython()\n",
        "if ipy is not None:\n",
        "    ipy.run_line_magic(\"load_ext\", \"pycodestyle_magic\")\n",
        "    ipy.run_line_magic(\"pycodestyle_on\", \"\")\n",
        "    ipy.run_line_magic(\"matplotlib\", \"inline\")"
      ]
    },
    {
      "cell_type": "markdown",
      "metadata": {
        "id": "WhSavXUf3kNG"
      },
      "source": [
        "## Task 1"
      ]
    },
    {
      "cell_type": "markdown",
      "metadata": {
        "id": "3YlEXkzN3kNG"
      },
      "source": [
        "Basics of NumPy, pandas, pickle and matplotlib."
      ]
    },
    {
      "cell_type": "markdown",
      "metadata": {
        "id": "I8Nl0iqS3kNG"
      },
      "source": [
        "**Question 1**"
      ]
    },
    {
      "cell_type": "code",
      "execution_count": 188,
      "metadata": {
        "colab": {
          "base_uri": "https://localhost:8080/",
          "height": 173
        },
        "id": "X2sRQDAz3kNH",
        "outputId": "1700951c-2f7b-4963-ed2e-305c754ab7c9"
      },
      "outputs": [
        {
          "output_type": "execute_result",
          "data": {
            "text/plain": [
              "\"\\n    Read the pickle file 'Data/Stress.pkl' and transform the contents into a\\n    a pandas DataFrame of the following form:\\n    \\n            +------+------+------+-----+------+-------+\\n            | ACCx | ACCy | ACCz | ECG | RESP | LABEL |\\n            +------+------+------+-----+------+-------+\\n            |      |      |      |     |      |       |\\n            +------+------+------+-----+------+-------+\\n            |      |      |      |     |      |       |\\n            +------+------+------+-----+------+-------+\\n            |      |      |      |     |      |       |\\n            +------+------+------+-----+------+-------+\\n\\n            Shape: (700, 6)\\n\\n    Save this DataFrame as a CSV file.\\n\\n    Modules\\n    -------\\n    pickle, pandas\\n    \\n    Lookups\\n    -------\\n    NumPy and pandas basics (Check the Lookups folder)\\n    Try to complete the tasks in the Lookups, and play around with the notebooks.\\n\""
            ],
            "application/vnd.google.colaboratory.intrinsic+json": {
              "type": "string"
            }
          },
          "metadata": {},
          "execution_count": 188
        }
      ],
      "source": [
        "\"\"\"\n",
        "    Read the pickle file 'Data/Stress.pkl' and transform the contents into a\n",
        "    a pandas DataFrame of the following form:\n",
        "    \n",
        "            +------+------+------+-----+------+-------+\n",
        "            | ACCx | ACCy | ACCz | ECG | RESP | LABEL |\n",
        "            +------+------+------+-----+------+-------+\n",
        "            |      |      |      |     |      |       |\n",
        "            +------+------+------+-----+------+-------+\n",
        "            |      |      |      |     |      |       |\n",
        "            +------+------+------+-----+------+-------+\n",
        "            |      |      |      |     |      |       |\n",
        "            +------+------+------+-----+------+-------+\n",
        "\n",
        "            Shape: (700, 6)\n",
        "\n",
        "    Save this DataFrame as a CSV file.\n",
        "\n",
        "    Modules\n",
        "    -------\n",
        "    pickle, pandas\n",
        "    \n",
        "    Lookups\n",
        "    -------\n",
        "    NumPy and pandas basics (Check the Lookups folder)\n",
        "    Try to complete the tasks in the Lookups, and play around with the notebooks.\n",
        "\"\"\"        "
      ]
    },
    {
      "cell_type": "code",
      "execution_count": 189,
      "metadata": {
        "id": "HbKJTX6V3kNH"
      },
      "outputs": [],
      "source": [
        "def pickle_to_csv(filename):\n",
        "    \"\"\"\n",
        "        Function: pickle_to_csv(filename)\n",
        "        Parameters: filename (String)\n",
        "        Save: DataFrame as `Stress.csv` in folder `Data`\n",
        "        Return: DataFrame\n",
        "    \"\"\"\n",
        "    data = np.load(filename,allow_pickle=True)\n",
        "    acc = data['signal']['ACC']\n",
        "    label = data['signal']['LABEL']\n",
        "    ecg = data['signal']['ECG']\n",
        "    resp = data['signal']['RESP']\n",
        "    df = pd.DataFrame(columns=['ACCx','ACCy','ACCz','ECG','RESP','LABEL'])\n",
        "    for i in range(700):\n",
        "      df = df.append({'ACCx':acc[i][0],'ACCy':acc[i][1],'ACCz':acc[i][2],'ECG':ecg[i][0],'RESP':resp[i][0],'LABEL':label[i][0]},ignore_index=True)\n",
        "    df.to_csv('Stress.csv')\n",
        "    return df"
      ]
    },
    {
      "cell_type": "code",
      "execution_count": 190,
      "metadata": {
        "colab": {
          "base_uri": "https://localhost:8080/",
          "height": 419
        },
        "id": "k3jNaMrY3kNI",
        "outputId": "4d8402fc-ff2c-426b-cd48-7bcbcef1ccbd"
      },
      "outputs": [
        {
          "output_type": "execute_result",
          "data": {
            "text/plain": [
              "       ACCx    ACCy    ACCz       ECG      RESP  LABEL\n",
              "0    0.9554 -0.2220 -0.5580  0.021423 -1.148987    0.0\n",
              "1    0.9258 -0.2216 -0.5538  0.020325 -1.124573    0.0\n",
              "2    0.9082 -0.2196 -0.5392  0.016525 -1.152039    0.0\n",
              "3    0.8974 -0.2102 -0.5122  0.016708 -1.158142    0.0\n",
              "4    0.8882 -0.2036 -0.4824  0.011673 -1.161194    0.0\n",
              "..      ...     ...     ...       ...       ...    ...\n",
              "695  0.9134 -0.1400  0.1074  0.003479  2.299500    7.0\n",
              "696  0.9092 -0.1394  0.0994  0.000778  2.305603    7.0\n",
              "697  0.9084 -0.1414  0.0934 -0.001694  2.297974    7.0\n",
              "698  0.9116 -0.1416  0.0958 -0.003799  2.354431    7.0\n",
              "699  0.9156 -0.1396  0.1022 -0.006546  2.355957    7.0\n",
              "\n",
              "[700 rows x 6 columns]"
            ],
            "text/html": [
              "\n",
              "  <div id=\"df-522edb69-e56a-49aa-8064-f85defb6dc88\">\n",
              "    <div class=\"colab-df-container\">\n",
              "      <div>\n",
              "<style scoped>\n",
              "    .dataframe tbody tr th:only-of-type {\n",
              "        vertical-align: middle;\n",
              "    }\n",
              "\n",
              "    .dataframe tbody tr th {\n",
              "        vertical-align: top;\n",
              "    }\n",
              "\n",
              "    .dataframe thead th {\n",
              "        text-align: right;\n",
              "    }\n",
              "</style>\n",
              "<table border=\"1\" class=\"dataframe\">\n",
              "  <thead>\n",
              "    <tr style=\"text-align: right;\">\n",
              "      <th></th>\n",
              "      <th>ACCx</th>\n",
              "      <th>ACCy</th>\n",
              "      <th>ACCz</th>\n",
              "      <th>ECG</th>\n",
              "      <th>RESP</th>\n",
              "      <th>LABEL</th>\n",
              "    </tr>\n",
              "  </thead>\n",
              "  <tbody>\n",
              "    <tr>\n",
              "      <th>0</th>\n",
              "      <td>0.9554</td>\n",
              "      <td>-0.2220</td>\n",
              "      <td>-0.5580</td>\n",
              "      <td>0.021423</td>\n",
              "      <td>-1.148987</td>\n",
              "      <td>0.0</td>\n",
              "    </tr>\n",
              "    <tr>\n",
              "      <th>1</th>\n",
              "      <td>0.9258</td>\n",
              "      <td>-0.2216</td>\n",
              "      <td>-0.5538</td>\n",
              "      <td>0.020325</td>\n",
              "      <td>-1.124573</td>\n",
              "      <td>0.0</td>\n",
              "    </tr>\n",
              "    <tr>\n",
              "      <th>2</th>\n",
              "      <td>0.9082</td>\n",
              "      <td>-0.2196</td>\n",
              "      <td>-0.5392</td>\n",
              "      <td>0.016525</td>\n",
              "      <td>-1.152039</td>\n",
              "      <td>0.0</td>\n",
              "    </tr>\n",
              "    <tr>\n",
              "      <th>3</th>\n",
              "      <td>0.8974</td>\n",
              "      <td>-0.2102</td>\n",
              "      <td>-0.5122</td>\n",
              "      <td>0.016708</td>\n",
              "      <td>-1.158142</td>\n",
              "      <td>0.0</td>\n",
              "    </tr>\n",
              "    <tr>\n",
              "      <th>4</th>\n",
              "      <td>0.8882</td>\n",
              "      <td>-0.2036</td>\n",
              "      <td>-0.4824</td>\n",
              "      <td>0.011673</td>\n",
              "      <td>-1.161194</td>\n",
              "      <td>0.0</td>\n",
              "    </tr>\n",
              "    <tr>\n",
              "      <th>...</th>\n",
              "      <td>...</td>\n",
              "      <td>...</td>\n",
              "      <td>...</td>\n",
              "      <td>...</td>\n",
              "      <td>...</td>\n",
              "      <td>...</td>\n",
              "    </tr>\n",
              "    <tr>\n",
              "      <th>695</th>\n",
              "      <td>0.9134</td>\n",
              "      <td>-0.1400</td>\n",
              "      <td>0.1074</td>\n",
              "      <td>0.003479</td>\n",
              "      <td>2.299500</td>\n",
              "      <td>7.0</td>\n",
              "    </tr>\n",
              "    <tr>\n",
              "      <th>696</th>\n",
              "      <td>0.9092</td>\n",
              "      <td>-0.1394</td>\n",
              "      <td>0.0994</td>\n",
              "      <td>0.000778</td>\n",
              "      <td>2.305603</td>\n",
              "      <td>7.0</td>\n",
              "    </tr>\n",
              "    <tr>\n",
              "      <th>697</th>\n",
              "      <td>0.9084</td>\n",
              "      <td>-0.1414</td>\n",
              "      <td>0.0934</td>\n",
              "      <td>-0.001694</td>\n",
              "      <td>2.297974</td>\n",
              "      <td>7.0</td>\n",
              "    </tr>\n",
              "    <tr>\n",
              "      <th>698</th>\n",
              "      <td>0.9116</td>\n",
              "      <td>-0.1416</td>\n",
              "      <td>0.0958</td>\n",
              "      <td>-0.003799</td>\n",
              "      <td>2.354431</td>\n",
              "      <td>7.0</td>\n",
              "    </tr>\n",
              "    <tr>\n",
              "      <th>699</th>\n",
              "      <td>0.9156</td>\n",
              "      <td>-0.1396</td>\n",
              "      <td>0.1022</td>\n",
              "      <td>-0.006546</td>\n",
              "      <td>2.355957</td>\n",
              "      <td>7.0</td>\n",
              "    </tr>\n",
              "  </tbody>\n",
              "</table>\n",
              "<p>700 rows × 6 columns</p>\n",
              "</div>\n",
              "      <button class=\"colab-df-convert\" onclick=\"convertToInteractive('df-522edb69-e56a-49aa-8064-f85defb6dc88')\"\n",
              "              title=\"Convert this dataframe to an interactive table.\"\n",
              "              style=\"display:none;\">\n",
              "        \n",
              "  <svg xmlns=\"http://www.w3.org/2000/svg\" height=\"24px\"viewBox=\"0 0 24 24\"\n",
              "       width=\"24px\">\n",
              "    <path d=\"M0 0h24v24H0V0z\" fill=\"none\"/>\n",
              "    <path d=\"M18.56 5.44l.94 2.06.94-2.06 2.06-.94-2.06-.94-.94-2.06-.94 2.06-2.06.94zm-11 1L8.5 8.5l.94-2.06 2.06-.94-2.06-.94L8.5 2.5l-.94 2.06-2.06.94zm10 10l.94 2.06.94-2.06 2.06-.94-2.06-.94-.94-2.06-.94 2.06-2.06.94z\"/><path d=\"M17.41 7.96l-1.37-1.37c-.4-.4-.92-.59-1.43-.59-.52 0-1.04.2-1.43.59L10.3 9.45l-7.72 7.72c-.78.78-.78 2.05 0 2.83L4 21.41c.39.39.9.59 1.41.59.51 0 1.02-.2 1.41-.59l7.78-7.78 2.81-2.81c.8-.78.8-2.07 0-2.86zM5.41 20L4 18.59l7.72-7.72 1.47 1.35L5.41 20z\"/>\n",
              "  </svg>\n",
              "      </button>\n",
              "      \n",
              "  <style>\n",
              "    .colab-df-container {\n",
              "      display:flex;\n",
              "      flex-wrap:wrap;\n",
              "      gap: 12px;\n",
              "    }\n",
              "\n",
              "    .colab-df-convert {\n",
              "      background-color: #E8F0FE;\n",
              "      border: none;\n",
              "      border-radius: 50%;\n",
              "      cursor: pointer;\n",
              "      display: none;\n",
              "      fill: #1967D2;\n",
              "      height: 32px;\n",
              "      padding: 0 0 0 0;\n",
              "      width: 32px;\n",
              "    }\n",
              "\n",
              "    .colab-df-convert:hover {\n",
              "      background-color: #E2EBFA;\n",
              "      box-shadow: 0px 1px 2px rgba(60, 64, 67, 0.3), 0px 1px 3px 1px rgba(60, 64, 67, 0.15);\n",
              "      fill: #174EA6;\n",
              "    }\n",
              "\n",
              "    [theme=dark] .colab-df-convert {\n",
              "      background-color: #3B4455;\n",
              "      fill: #D2E3FC;\n",
              "    }\n",
              "\n",
              "    [theme=dark] .colab-df-convert:hover {\n",
              "      background-color: #434B5C;\n",
              "      box-shadow: 0px 1px 3px 1px rgba(0, 0, 0, 0.15);\n",
              "      filter: drop-shadow(0px 1px 2px rgba(0, 0, 0, 0.3));\n",
              "      fill: #FFFFFF;\n",
              "    }\n",
              "  </style>\n",
              "\n",
              "      <script>\n",
              "        const buttonEl =\n",
              "          document.querySelector('#df-522edb69-e56a-49aa-8064-f85defb6dc88 button.colab-df-convert');\n",
              "        buttonEl.style.display =\n",
              "          google.colab.kernel.accessAllowed ? 'block' : 'none';\n",
              "\n",
              "        async function convertToInteractive(key) {\n",
              "          const element = document.querySelector('#df-522edb69-e56a-49aa-8064-f85defb6dc88');\n",
              "          const dataTable =\n",
              "            await google.colab.kernel.invokeFunction('convertToInteractive',\n",
              "                                                     [key], {});\n",
              "          if (!dataTable) return;\n",
              "\n",
              "          const docLinkHtml = 'Like what you see? Visit the ' +\n",
              "            '<a target=\"_blank\" href=https://colab.research.google.com/notebooks/data_table.ipynb>data table notebook</a>'\n",
              "            + ' to learn more about interactive tables.';\n",
              "          element.innerHTML = '';\n",
              "          dataTable['output_type'] = 'display_data';\n",
              "          await google.colab.output.renderOutput(dataTable, element);\n",
              "          const docLink = document.createElement('div');\n",
              "          docLink.innerHTML = docLinkHtml;\n",
              "          element.appendChild(docLink);\n",
              "        }\n",
              "      </script>\n",
              "    </div>\n",
              "  </div>\n",
              "  "
            ]
          },
          "metadata": {},
          "execution_count": 190
        }
      ],
      "source": [
        "# Call your function here \n",
        "pickle_to_csv('Stress.pkl')"
      ]
    },
    {
      "cell_type": "markdown",
      "metadata": {
        "id": "obgGFvnQ3kNI"
      },
      "source": [
        "**Question 2**"
      ]
    },
    {
      "cell_type": "code",
      "source": [
        "df = pickle_to_csv('Stress.pkl')"
      ],
      "metadata": {
        "id": "dtHctaWw8F3-"
      },
      "execution_count": 191,
      "outputs": []
    },
    {
      "cell_type": "code",
      "execution_count": 192,
      "metadata": {
        "id": "InVdcP7b3kNJ",
        "outputId": "7f2a437f-3b7c-4320-fa9b-1b01a7507c56",
        "colab": {
          "base_uri": "https://localhost:8080/",
          "height": 71
        }
      },
      "outputs": [
        {
          "output_type": "execute_result",
          "data": {
            "text/plain": [
              "'\\n    Find the number of occurrences of each unique value in `LABEL` (count of values).\\n    \\n    Add a column `BINARY` to the DataFrame which contains 1 if `LABEL` is 2,\\n    else 0.\\n    \\n    Find the mean, minimum, maximum and standard deviation of `RESP` for each value in `LABEL`.\\n'"
            ],
            "application/vnd.google.colaboratory.intrinsic+json": {
              "type": "string"
            }
          },
          "metadata": {},
          "execution_count": 192
        }
      ],
      "source": [
        "\"\"\"\n",
        "    Find the number of occurrences of each unique value in `LABEL` (count of values).\n",
        "    \n",
        "    Add a column `BINARY` to the DataFrame which contains 1 if `LABEL` is 2,\n",
        "    else 0.\n",
        "    \n",
        "    Find the mean, minimum, maximum and standard deviation of `RESP` for each value in `LABEL`.\n",
        "\"\"\""
      ]
    },
    {
      "cell_type": "code",
      "execution_count": 193,
      "metadata": {
        "id": "hntHLU2q3kNJ"
      },
      "outputs": [],
      "source": [
        "def count_unique(dataframe):\n",
        "    \"\"\"\n",
        "        Function 1: count_unique(dataframe)\n",
        "        Parameters: dataframe: Stress data DataFrame\n",
        "        Return: dict containing count of values in `LABEL`\n",
        "    \"\"\"\n",
        "    return dataframe['LABEL'].value_counts()"
      ]
    },
    {
      "cell_type": "code",
      "execution_count": 194,
      "metadata": {
        "id": "_8CrJt4r3kNK",
        "outputId": "719326c5-92ef-4904-f89e-4772608b4d68",
        "colab": {
          "base_uri": "https://localhost:8080/"
        }
      },
      "outputs": [
        {
          "output_type": "execute_result",
          "data": {
            "text/plain": [
              "0.0    100\n",
              "1.0    100\n",
              "2.0    100\n",
              "6.0    100\n",
              "4.0    100\n",
              "3.0    100\n",
              "7.0    100\n",
              "Name: LABEL, dtype: int64"
            ]
          },
          "metadata": {},
          "execution_count": 194
        }
      ],
      "source": [
        "# Call your function here\n",
        "count_unique(df)"
      ]
    },
    {
      "cell_type": "code",
      "execution_count": 195,
      "metadata": {
        "id": "8vok3VnY3kNK"
      },
      "outputs": [],
      "source": [
        "def add_binary(dataframe):\n",
        "    \"\"\"\n",
        "        Function 2: add_binary(dataframe)\n",
        "        Parameters: dataframe: Stress data DataFrame\n",
        "        Return: DataFrame (updated, containing `BINARY`)\n",
        "    \"\"\"\n",
        "    dataframe['BINARY'] = np.where(dataframe['LABEL']==2,1,0)\n",
        "    return dataframe"
      ]
    },
    {
      "cell_type": "code",
      "execution_count": 196,
      "metadata": {
        "id": "LnS-q7aQ3kNL",
        "colab": {
          "base_uri": "https://localhost:8080/",
          "height": 419
        },
        "outputId": "c190f3c5-ee25-4c25-bb99-2288343a0c83"
      },
      "outputs": [
        {
          "output_type": "execute_result",
          "data": {
            "text/plain": [
              "       ACCx    ACCy    ACCz       ECG      RESP  LABEL  BINARY\n",
              "0    0.9554 -0.2220 -0.5580  0.021423 -1.148987    0.0       0\n",
              "1    0.9258 -0.2216 -0.5538  0.020325 -1.124573    0.0       0\n",
              "2    0.9082 -0.2196 -0.5392  0.016525 -1.152039    0.0       0\n",
              "3    0.8974 -0.2102 -0.5122  0.016708 -1.158142    0.0       0\n",
              "4    0.8882 -0.2036 -0.4824  0.011673 -1.161194    0.0       0\n",
              "..      ...     ...     ...       ...       ...    ...     ...\n",
              "695  0.9134 -0.1400  0.1074  0.003479  2.299500    7.0       0\n",
              "696  0.9092 -0.1394  0.0994  0.000778  2.305603    7.0       0\n",
              "697  0.9084 -0.1414  0.0934 -0.001694  2.297974    7.0       0\n",
              "698  0.9116 -0.1416  0.0958 -0.003799  2.354431    7.0       0\n",
              "699  0.9156 -0.1396  0.1022 -0.006546  2.355957    7.0       0\n",
              "\n",
              "[700 rows x 7 columns]"
            ],
            "text/html": [
              "\n",
              "  <div id=\"df-a572a1b9-c4bd-4220-84a1-6ce28c37b599\">\n",
              "    <div class=\"colab-df-container\">\n",
              "      <div>\n",
              "<style scoped>\n",
              "    .dataframe tbody tr th:only-of-type {\n",
              "        vertical-align: middle;\n",
              "    }\n",
              "\n",
              "    .dataframe tbody tr th {\n",
              "        vertical-align: top;\n",
              "    }\n",
              "\n",
              "    .dataframe thead th {\n",
              "        text-align: right;\n",
              "    }\n",
              "</style>\n",
              "<table border=\"1\" class=\"dataframe\">\n",
              "  <thead>\n",
              "    <tr style=\"text-align: right;\">\n",
              "      <th></th>\n",
              "      <th>ACCx</th>\n",
              "      <th>ACCy</th>\n",
              "      <th>ACCz</th>\n",
              "      <th>ECG</th>\n",
              "      <th>RESP</th>\n",
              "      <th>LABEL</th>\n",
              "      <th>BINARY</th>\n",
              "    </tr>\n",
              "  </thead>\n",
              "  <tbody>\n",
              "    <tr>\n",
              "      <th>0</th>\n",
              "      <td>0.9554</td>\n",
              "      <td>-0.2220</td>\n",
              "      <td>-0.5580</td>\n",
              "      <td>0.021423</td>\n",
              "      <td>-1.148987</td>\n",
              "      <td>0.0</td>\n",
              "      <td>0</td>\n",
              "    </tr>\n",
              "    <tr>\n",
              "      <th>1</th>\n",
              "      <td>0.9258</td>\n",
              "      <td>-0.2216</td>\n",
              "      <td>-0.5538</td>\n",
              "      <td>0.020325</td>\n",
              "      <td>-1.124573</td>\n",
              "      <td>0.0</td>\n",
              "      <td>0</td>\n",
              "    </tr>\n",
              "    <tr>\n",
              "      <th>2</th>\n",
              "      <td>0.9082</td>\n",
              "      <td>-0.2196</td>\n",
              "      <td>-0.5392</td>\n",
              "      <td>0.016525</td>\n",
              "      <td>-1.152039</td>\n",
              "      <td>0.0</td>\n",
              "      <td>0</td>\n",
              "    </tr>\n",
              "    <tr>\n",
              "      <th>3</th>\n",
              "      <td>0.8974</td>\n",
              "      <td>-0.2102</td>\n",
              "      <td>-0.5122</td>\n",
              "      <td>0.016708</td>\n",
              "      <td>-1.158142</td>\n",
              "      <td>0.0</td>\n",
              "      <td>0</td>\n",
              "    </tr>\n",
              "    <tr>\n",
              "      <th>4</th>\n",
              "      <td>0.8882</td>\n",
              "      <td>-0.2036</td>\n",
              "      <td>-0.4824</td>\n",
              "      <td>0.011673</td>\n",
              "      <td>-1.161194</td>\n",
              "      <td>0.0</td>\n",
              "      <td>0</td>\n",
              "    </tr>\n",
              "    <tr>\n",
              "      <th>...</th>\n",
              "      <td>...</td>\n",
              "      <td>...</td>\n",
              "      <td>...</td>\n",
              "      <td>...</td>\n",
              "      <td>...</td>\n",
              "      <td>...</td>\n",
              "      <td>...</td>\n",
              "    </tr>\n",
              "    <tr>\n",
              "      <th>695</th>\n",
              "      <td>0.9134</td>\n",
              "      <td>-0.1400</td>\n",
              "      <td>0.1074</td>\n",
              "      <td>0.003479</td>\n",
              "      <td>2.299500</td>\n",
              "      <td>7.0</td>\n",
              "      <td>0</td>\n",
              "    </tr>\n",
              "    <tr>\n",
              "      <th>696</th>\n",
              "      <td>0.9092</td>\n",
              "      <td>-0.1394</td>\n",
              "      <td>0.0994</td>\n",
              "      <td>0.000778</td>\n",
              "      <td>2.305603</td>\n",
              "      <td>7.0</td>\n",
              "      <td>0</td>\n",
              "    </tr>\n",
              "    <tr>\n",
              "      <th>697</th>\n",
              "      <td>0.9084</td>\n",
              "      <td>-0.1414</td>\n",
              "      <td>0.0934</td>\n",
              "      <td>-0.001694</td>\n",
              "      <td>2.297974</td>\n",
              "      <td>7.0</td>\n",
              "      <td>0</td>\n",
              "    </tr>\n",
              "    <tr>\n",
              "      <th>698</th>\n",
              "      <td>0.9116</td>\n",
              "      <td>-0.1416</td>\n",
              "      <td>0.0958</td>\n",
              "      <td>-0.003799</td>\n",
              "      <td>2.354431</td>\n",
              "      <td>7.0</td>\n",
              "      <td>0</td>\n",
              "    </tr>\n",
              "    <tr>\n",
              "      <th>699</th>\n",
              "      <td>0.9156</td>\n",
              "      <td>-0.1396</td>\n",
              "      <td>0.1022</td>\n",
              "      <td>-0.006546</td>\n",
              "      <td>2.355957</td>\n",
              "      <td>7.0</td>\n",
              "      <td>0</td>\n",
              "    </tr>\n",
              "  </tbody>\n",
              "</table>\n",
              "<p>700 rows × 7 columns</p>\n",
              "</div>\n",
              "      <button class=\"colab-df-convert\" onclick=\"convertToInteractive('df-a572a1b9-c4bd-4220-84a1-6ce28c37b599')\"\n",
              "              title=\"Convert this dataframe to an interactive table.\"\n",
              "              style=\"display:none;\">\n",
              "        \n",
              "  <svg xmlns=\"http://www.w3.org/2000/svg\" height=\"24px\"viewBox=\"0 0 24 24\"\n",
              "       width=\"24px\">\n",
              "    <path d=\"M0 0h24v24H0V0z\" fill=\"none\"/>\n",
              "    <path d=\"M18.56 5.44l.94 2.06.94-2.06 2.06-.94-2.06-.94-.94-2.06-.94 2.06-2.06.94zm-11 1L8.5 8.5l.94-2.06 2.06-.94-2.06-.94L8.5 2.5l-.94 2.06-2.06.94zm10 10l.94 2.06.94-2.06 2.06-.94-2.06-.94-.94-2.06-.94 2.06-2.06.94z\"/><path d=\"M17.41 7.96l-1.37-1.37c-.4-.4-.92-.59-1.43-.59-.52 0-1.04.2-1.43.59L10.3 9.45l-7.72 7.72c-.78.78-.78 2.05 0 2.83L4 21.41c.39.39.9.59 1.41.59.51 0 1.02-.2 1.41-.59l7.78-7.78 2.81-2.81c.8-.78.8-2.07 0-2.86zM5.41 20L4 18.59l7.72-7.72 1.47 1.35L5.41 20z\"/>\n",
              "  </svg>\n",
              "      </button>\n",
              "      \n",
              "  <style>\n",
              "    .colab-df-container {\n",
              "      display:flex;\n",
              "      flex-wrap:wrap;\n",
              "      gap: 12px;\n",
              "    }\n",
              "\n",
              "    .colab-df-convert {\n",
              "      background-color: #E8F0FE;\n",
              "      border: none;\n",
              "      border-radius: 50%;\n",
              "      cursor: pointer;\n",
              "      display: none;\n",
              "      fill: #1967D2;\n",
              "      height: 32px;\n",
              "      padding: 0 0 0 0;\n",
              "      width: 32px;\n",
              "    }\n",
              "\n",
              "    .colab-df-convert:hover {\n",
              "      background-color: #E2EBFA;\n",
              "      box-shadow: 0px 1px 2px rgba(60, 64, 67, 0.3), 0px 1px 3px 1px rgba(60, 64, 67, 0.15);\n",
              "      fill: #174EA6;\n",
              "    }\n",
              "\n",
              "    [theme=dark] .colab-df-convert {\n",
              "      background-color: #3B4455;\n",
              "      fill: #D2E3FC;\n",
              "    }\n",
              "\n",
              "    [theme=dark] .colab-df-convert:hover {\n",
              "      background-color: #434B5C;\n",
              "      box-shadow: 0px 1px 3px 1px rgba(0, 0, 0, 0.15);\n",
              "      filter: drop-shadow(0px 1px 2px rgba(0, 0, 0, 0.3));\n",
              "      fill: #FFFFFF;\n",
              "    }\n",
              "  </style>\n",
              "\n",
              "      <script>\n",
              "        const buttonEl =\n",
              "          document.querySelector('#df-a572a1b9-c4bd-4220-84a1-6ce28c37b599 button.colab-df-convert');\n",
              "        buttonEl.style.display =\n",
              "          google.colab.kernel.accessAllowed ? 'block' : 'none';\n",
              "\n",
              "        async function convertToInteractive(key) {\n",
              "          const element = document.querySelector('#df-a572a1b9-c4bd-4220-84a1-6ce28c37b599');\n",
              "          const dataTable =\n",
              "            await google.colab.kernel.invokeFunction('convertToInteractive',\n",
              "                                                     [key], {});\n",
              "          if (!dataTable) return;\n",
              "\n",
              "          const docLinkHtml = 'Like what you see? Visit the ' +\n",
              "            '<a target=\"_blank\" href=https://colab.research.google.com/notebooks/data_table.ipynb>data table notebook</a>'\n",
              "            + ' to learn more about interactive tables.';\n",
              "          element.innerHTML = '';\n",
              "          dataTable['output_type'] = 'display_data';\n",
              "          await google.colab.output.renderOutput(dataTable, element);\n",
              "          const docLink = document.createElement('div');\n",
              "          docLink.innerHTML = docLinkHtml;\n",
              "          element.appendChild(docLink);\n",
              "        }\n",
              "      </script>\n",
              "    </div>\n",
              "  </div>\n",
              "  "
            ]
          },
          "metadata": {},
          "execution_count": 196
        }
      ],
      "source": [
        "# Call your function here\n",
        "add_binary(df)"
      ]
    },
    {
      "cell_type": "code",
      "execution_count": 197,
      "metadata": {
        "id": "I5TfCScz3kNL"
      },
      "outputs": [],
      "source": [
        "def compute_resp(dataframe):\n",
        "    \"\"\"\n",
        "        Function 3: compute_resp(dataframe)\n",
        "        Parameters: dataframe: Stress data DataFrame\n",
        "        Return: dict containing mean, min, max and standard deviation of `RESP`\n",
        "                for each value in `LABEL`\n",
        "        Dictionary Format: {label_value: [mean, min, max, std_dev]}\n",
        "        Example: {1: [1, 0, 2, 1], 2: [0, -1, 1, 1], ... }\n",
        "    \"\"\"\n",
        "    dict = {}\n",
        "    mean = dataframe.groupby('LABEL')['RESP'].mean().to_dict()\n",
        "    min = dataframe.groupby('LABEL')['RESP'].min().to_dict()\n",
        "    max = dataframe.groupby('LABEL')['RESP'].max().to_dict()\n",
        "    std_dev = dataframe.groupby('LABEL')['RESP'].std().to_dict()\n",
        "    for key in mean:\n",
        "      dict[key] = [mean[key],min[key],max[key],std_dev[key]]\n",
        "    return dict"
      ]
    },
    {
      "cell_type": "code",
      "execution_count": 198,
      "metadata": {
        "scrolled": true,
        "id": "dOgiD39J3kNL",
        "colab": {
          "base_uri": "https://localhost:8080/"
        },
        "outputId": "fa89792d-2db5-42eb-b4a5-a577e762901c"
      },
      "outputs": [
        {
          "output_type": "execute_result",
          "data": {
            "text/plain": [
              "{0.0: [-1.19342041015625,\n",
              "  -1.39617919921875,\n",
              "  -1.12457275390625,\n",
              "  0.042247046316039066],\n",
              " 1.0: [0.7134246826171875,\n",
              "  -0.23345947265625,\n",
              "  1.19171142578125,\n",
              "  0.29553391572374704],\n",
              " 2.0: [-1.0665130615234375,\n",
              "  -1.63116455078125,\n",
              "  -0.86517333984375,\n",
              "  0.12823314954549303],\n",
              " 3.0: [-0.5306396484375,\n",
              "  -1.27105712890625,\n",
              "  -0.09918212890625,\n",
              "  0.24397469864245044],\n",
              " 4.0: [-2.1305999755859375,\n",
              "  -2.54364013671875,\n",
              "  -2.00042724609375,\n",
              "  0.08807708808175217],\n",
              " 6.0: [0.084747314453125,\n",
              "  -0.4180908203125,\n",
              "  0.16632080078125,\n",
              "  0.08561486266706554],\n",
              " 7.0: [1.1905059814453125,\n",
              "  -0.00457763671875,\n",
              "  2.35595703125,\n",
              "  0.6931962371698447]}"
            ]
          },
          "metadata": {},
          "execution_count": 198
        }
      ],
      "source": [
        "# Call your function here\n",
        "compute_resp(df)"
      ]
    },
    {
      "cell_type": "markdown",
      "metadata": {
        "id": "HLTTM0Ts3kNM"
      },
      "source": [
        "**Question 3**"
      ]
    },
    {
      "cell_type": "code",
      "execution_count": 199,
      "metadata": {
        "id": "KD2ANjwp3kNM",
        "colab": {
          "base_uri": "https://localhost:8080/",
          "height": 54
        },
        "outputId": "aa2ff43d-e220-4f9e-956c-5f2d170d90aa"
      },
      "outputs": [
        {
          "output_type": "execute_result",
          "data": {
            "text/plain": [
              "'\\n    Plot `RESP` using matplotlib (pyplot):\\n    - First, just plot the raw values.\\n    - Next, try using different colours for data points based on `BINARY`.\\n    - Experiment and come up with a useful plot.\\n'"
            ],
            "application/vnd.google.colaboratory.intrinsic+json": {
              "type": "string"
            }
          },
          "metadata": {},
          "execution_count": 199
        }
      ],
      "source": [
        "\"\"\"\n",
        "    Plot `RESP` using matplotlib (pyplot):\n",
        "    - First, just plot the raw values.\n",
        "    - Next, try using different colours for data points based on `BINARY`.\n",
        "    - Experiment and come up with a useful plot.\n",
        "\"\"\""
      ]
    },
    {
      "cell_type": "code",
      "execution_count": 200,
      "metadata": {
        "id": "97ePJhs13kNM"
      },
      "outputs": [],
      "source": [
        "def plot_raw(dataframe):\n",
        "    \"\"\"\n",
        "        Function 1: plot_raw(dataframe)\n",
        "        Parameters: dataframe: Stress data DataFrame\n",
        "        Output: Plot\n",
        "    \"\"\"\n",
        "    df['RESP'].plot()"
      ]
    },
    {
      "cell_type": "code",
      "execution_count": 201,
      "metadata": {
        "id": "FIywZUG_3kNM",
        "colab": {
          "base_uri": "https://localhost:8080/",
          "height": 265
        },
        "outputId": "b3b26ccd-d57a-430b-935f-102cd0ff09a1"
      },
      "outputs": [
        {
          "output_type": "display_data",
          "data": {
            "text/plain": [
              "<Figure size 432x288 with 1 Axes>"
            ],
            "image/png": "[encoded data removed]"
          },
          "metadata": {
            "needs_background": "light"
          }
        }
      ],
      "source": [
        "# Call your function here\n",
        "plot_raw(df)"
      ]
    },
    {
      "cell_type": "code",
      "execution_count": 202,
      "metadata": {
        "id": "JTSrAcUR3kNN"
      },
      "outputs": [],
      "source": [
        "def plot_coloured(dataframe):\n",
        "    \"\"\"\n",
        "        Function 2: plot_coloured(dataframe)\n",
        "        Parameters: dataframe: Stress data DataFrame\n",
        "        Output: Plot\n",
        "    \"\"\"\n",
        "    df[['RESP', 'BINARY']].plot(color=['green', 'brown'])"
      ]
    },
    {
      "cell_type": "code",
      "execution_count": 203,
      "metadata": {
        "id": "uFK0F9Cs3kNN",
        "colab": {
          "base_uri": "https://localhost:8080/",
          "height": 265
        },
        "outputId": "c6dd0dcc-adb9-4819-f57f-c56fa64c3d45"
      },
      "outputs": [
        {
          "output_type": "display_data",
          "data": {
            "text/plain": [
              "<Figure size 432x288 with 1 Axes>"
            ],
            "image/png": "[encoded data removed]"
          },
          "metadata": {
            "needs_background": "light"
          }
        }
      ],
      "source": [
        "# Call your function here\n",
        "plot_coloured(df)"
      ]
    },
    {
      "cell_type": "markdown",
      "metadata": {
        "id": "eQI4sbnz3kNN"
      },
      "source": [
        "## Task 2"
      ]
    },
    {
      "cell_type": "markdown",
      "metadata": {
        "id": "9iBIB1Ej3kNN"
      },
      "source": [
        "Some simple file operations."
      ]
    },
    {
      "cell_type": "code",
      "source": [
        "import random\n",
        "from collections import Counter"
      ],
      "metadata": {
        "id": "Kqqu75oSsdX3"
      },
      "execution_count": 204,
      "outputs": []
    },
    {
      "cell_type": "code",
      "execution_count": 205,
      "metadata": {
        "id": "-uNnIEqm3kNO",
        "colab": {
          "base_uri": "https://localhost:8080/",
          "height": 88
        },
        "outputId": "efc13861-0651-4219-ffad-bc223717b9aa"
      },
      "outputs": [
        {
          "output_type": "execute_result",
          "data": {
            "text/plain": [
              "'\\n    Generate a text file containing 50 integer elements between 1 and 20 (use `random`). \\n    Identify the unique numbers and the number of their occurrences, and write this into \\n    a new text file.\\n    \\n    Example\\n    -------\\n    \\n    Generated File\\n    --------------\\n    1 2 3 4 3 2 1 ...\\n    \\n    Count File\\n    ----------\\n    1 - 2\\n    2 - 2\\n    3 - 2\\n    4 - 1\\n    ...\\n'"
            ],
            "application/vnd.google.colaboratory.intrinsic+json": {
              "type": "string"
            }
          },
          "metadata": {},
          "execution_count": 205
        }
      ],
      "source": [
        "\"\"\"\n",
        "    Generate a text file containing 50 integer elements between 1 and 20 (use `random`). \n",
        "    Identify the unique numbers and the number of their occurrences, and write this into \n",
        "    a new text file.\n",
        "    \n",
        "    Example\n",
        "    -------\n",
        "    \n",
        "    Generated File\n",
        "    --------------\n",
        "    1 2 3 4 3 2 1 ...\n",
        "    \n",
        "    Count File\n",
        "    ----------\n",
        "    1 - 2\n",
        "    2 - 2\n",
        "    3 - 2\n",
        "    4 - 1\n",
        "    ...\n",
        "\"\"\""
      ]
    },
    {
      "cell_type": "code",
      "execution_count": 206,
      "metadata": {
        "id": "pLtDitq93kNO"
      },
      "outputs": [],
      "source": [
        "def random_numbers():\n",
        "    \"\"\"\n",
        "        Function: random_numbers()\n",
        "        Save: `Numbers.txt` containing the 50 integers,\n",
        "              `Count.txt` containing the count of unique integers\n",
        "    \"\"\"\n",
        "    with open('Numbers.txt','w+') as f:\n",
        "      for i in range(50):\n",
        "        f.write(str(random.randrange(1,21))+' ')\n",
        "    \n",
        "    with open('Numbers.txt') as f:\n",
        "      d = dict(Counter(f.read().split()))\n",
        "    lst_of_tuples = [(k,d[k]) for k in sorted(d)]\n",
        "    print(lst_of_tuples)\n",
        "\n",
        "    with open('Count.txt','w+') as f:\n",
        "      for i in range(len(lst_of_tuples)):\n",
        "        f.write(lst_of_tuples[i][0]+'-'+str(lst_of_tuples[i][1])+'\\n')"
      ]
    },
    {
      "cell_type": "code",
      "execution_count": 208,
      "metadata": {
        "id": "L-eS9kTn3kNP"
      },
      "outputs": [],
      "source": [
        "# Call your function here\n",
        "random_numbers()"
      ]
    },
    {
      "cell_type": "markdown",
      "metadata": {
        "id": "B1RriKhu3kNQ"
      },
      "source": [
        "Once you're done, move on to Module 3. Great job!"
      ]
    }
  ],
  "metadata": {
    "kernelspec": {
      "display_name": "Python 3.9 (tensorflow)",
      "language": "python",
      "name": "tensorflow"
    },
    "language_info": {
      "codemirror_mode": {
        "name": "ipython",
        "version": 3
      },
      "file_extension": ".py",
      "mimetype": "text/x-python",
      "name": "python",
      "nbconvert_exporter": "python",
      "pygments_lexer": "ipython3",
      "version": "3.9.10"
    },
    "colab": {
      "provenance": []
    }
  },
  "nbformat": 4,
  "nbformat_minor": 0
}