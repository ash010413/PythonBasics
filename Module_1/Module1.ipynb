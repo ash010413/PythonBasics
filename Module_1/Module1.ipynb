{
 "cells": [
  {
   "cell_type": "markdown",
   "metadata": {},
   "source": [
    "# Python Basics"
   ]
  },
  {
   "cell_type": "markdown",
   "metadata": {},
   "source": [
    "These assignments aim to get you acquainted with Python, which is an important requirement for all the research done at Solarillion Foundation. Apart from teaching you Python, these assignments also aim to make you a better programmer and cultivate better coding practices. \n",
    "\n",
    "Visit these links for more details: <br>\n",
    "PEP8 Practices: https://www.python.org/dev/peps/pep-0008/ <br>\n",
    "Check PEP8: http://pep8online.com <br>\n",
    "Python Reference: https://www.py4e.com/lessons <br>\n",
    "\n",
    "Do use Google efficiently, and refer to StackOverflow for clarifying any programming doubts. If you're still stuck, feel free to ask a TA to help you.\n",
    "\n",
    "Each task in the assignment comprises of at least two cells. There are function definitions wherein you will name the function(s), and write code to solve the problem at hand. You will call the function(s) in the last cell of each task, and check your output.\n",
    "\n",
    "We encourage you to play around and learn as much as possible, and be as creative as you can get. More than anything, have fun doing these assignments. Enjoy!"
   ]
  },
  {
   "cell_type": "markdown",
   "metadata": {},
   "source": [
    "# Important\n",
    "* **Only the imports and functions must be present when you upload this notebook to GitHub for verification.** \n",
    "* **Do not upload it until you want to get it verified. Do not change function names or add extra cells or code, or remove anything.**\n",
    "* **For your rough work and four showing your code to TAs, use a different notebook with the name Module2Playground.ipynb and copy only the final functions to this notebook for verification.**"
   ]
  },
  {
   "cell_type": "markdown",
   "metadata": {},
   "source": [
    "# Module 1\n",
    "Scope: Conditions, Loops, Exceptions, Data Structures, Lambda Functions"
   ]
  },
  {
   "cell_type": "markdown",
   "metadata": {},
   "source": [
    "## Imports - Always Execute First!\n",
    "Import any modules and turn on magic here:"
   ]
  },
  {
   "cell_type": "code",
   "execution_count": 1,
   "metadata": {},
   "outputs": [],
   "source": [
    "from IPython import get_ipython\n",
    "ipy = get_ipython()\n",
    "if ipy is not None:\n",
    "    ipy.run_line_magic(\"load_ext\", \"pycodestyle_magic\")\n",
    "    ipy.run_line_magic(\"pycodestyle_on\", \"\")"
   ]
  },
  {
   "cell_type": "markdown",
   "metadata": {},
   "source": [
    "## Task 1"
   ]
  },
  {
   "cell_type": "markdown",
   "metadata": {},
   "source": [
    "Print the pattern given in the docstring."
   ]
  },
  {
   "cell_type": "markdown",
   "metadata": {},
   "source": [
    "**Question 1**"
   ]
  },
  {
   "cell_type": "code",
   "execution_count": 2,
   "metadata": {},
   "outputs": [
    {
     "name": "stderr",
     "output_type": "stream",
     "text": [
      "26:22: E231 missing whitespace after ','\n"
     ]
    }
   ],
   "source": [
    "def number_pattern(n):\n",
    "    \"\"\"\n",
    "        Prints the following pattern for `n` rows:\n",
    "\n",
    "        1\n",
    "        1 2\n",
    "        1 2 3\n",
    "        ...\n",
    "        1 2 3 ... n\n",
    "\n",
    "        Parameters\n",
    "        ----------\n",
    "        n : integer\n",
    "            Number of lines\n",
    "\n",
    "        Output\n",
    "        ------\n",
    "        Prints to stdout (default output)\n",
    "\n",
    "        Ideas\n",
    "        -----\n",
    "        Looping, Nested Loops\n",
    "    \"\"\"\n",
    "    for i in range(n):\n",
    "        for j in range(i+1):\n",
    "            print(j+1,end=\" \")\n",
    "        print(\" \")"
   ]
  },
  {
   "cell_type": "code",
   "execution_count": 3,
   "metadata": {},
   "outputs": [
    {
     "name": "stdout",
     "output_type": "stream",
     "text": [
      "1  \n",
      "1 2  \n",
      "1 2 3  \n",
      "1 2 3 4  \n",
      "1 2 3 4 5  \n"
     ]
    }
   ],
   "source": [
    "# Call your function here\n",
    "number_pattern(5)"
   ]
  },
  {
   "cell_type": "markdown",
   "metadata": {},
   "source": [
    "**Question 2**"
   ]
  },
  {
   "cell_type": "code",
   "execution_count": 4,
   "metadata": {},
   "outputs": [
    {
     "name": "stderr",
     "output_type": "stream",
     "text": [
      "18:1: W293 blank line contains whitespace\n",
      "57:30: E231 missing whitespace after ','\n",
      "59:30: E231 missing whitespace after ','\n"
     ]
    }
   ],
   "source": [
    "def zero_star_pattern(n):\n",
    "    \"\"\"\n",
    "        Prints the following `n` times:\n",
    "\n",
    "        *\n",
    "        00\n",
    "        ***\n",
    "        0000\n",
    "        *****\n",
    "        0000\n",
    "        ***\n",
    "        00\n",
    "        *\n",
    "\n",
    "        Example\n",
    "        -------\n",
    "        n = 2\n",
    "        \n",
    "        *\n",
    "        00\n",
    "        ***\n",
    "        0000\n",
    "        *****\n",
    "        0000\n",
    "        ***\n",
    "        00\n",
    "        *\n",
    "        00\n",
    "        ***\n",
    "        0000\n",
    "        *****\n",
    "        0000\n",
    "        ***\n",
    "        00\n",
    "        *\n",
    "\n",
    "        Parameters\n",
    "        ----------\n",
    "        n : integer\n",
    "            Number of times to print pattern\n",
    "\n",
    "        Output\n",
    "        ------\n",
    "        Prints to stdout (default output)\n",
    "\n",
    "        Ideas\n",
    "        -----\n",
    "        Looping, Conditions\n",
    "    \"\"\"\n",
    "    for k in range(n):\n",
    "        for i in range(2*5):\n",
    "            if k > 0 and i == 1:\n",
    "                continue\n",
    "            c = 2*5 - i if i > 5 else i\n",
    "            for j in range(c):\n",
    "                if i % 2 == 1:\n",
    "                    print(\"*\",end=\"\")\n",
    "                else:\n",
    "                    print(\"0\",end=\"\")\n",
    "            print(\"\")"
   ]
  },
  {
   "cell_type": "code",
   "execution_count": 5,
   "metadata": {
    "scrolled": true
   },
   "outputs": [
    {
     "name": "stdout",
     "output_type": "stream",
     "text": [
      "\n",
      "*\n",
      "00\n",
      "***\n",
      "0000\n",
      "*****\n",
      "0000\n",
      "***\n",
      "00\n",
      "*\n",
      "\n",
      "00\n",
      "***\n",
      "0000\n",
      "*****\n",
      "0000\n",
      "***\n",
      "00\n",
      "*\n"
     ]
    }
   ],
   "source": [
    "# Call your function here\n",
    "zero_star_pattern(2)"
   ]
  },
  {
   "cell_type": "markdown",
   "metadata": {},
   "source": [
    "**Question 3**"
   ]
  },
  {
   "cell_type": "code",
   "execution_count": 6,
   "metadata": {},
   "outputs": [],
   "source": [
    "import math"
   ]
  },
  {
   "cell_type": "code",
   "execution_count": 7,
   "metadata": {},
   "outputs": [
    {
     "name": "stderr",
     "output_type": "stream",
     "text": [
      "3:80: E501 line too long (85 > 79 characters)\n",
      "5:1: W293 blank line contains whitespace\n",
      "9:1: W293 blank line contains whitespace\n",
      "15:1: W293 blank line contains whitespace\n",
      "31:21: E231 missing whitespace after ','\n",
      "32:45: E231 missing whitespace after ','\n",
      "32:80: E501 line too long (87 > 79 characters)\n",
      "32:84: E231 missing whitespace after ','\n",
      "36:30: W291 trailing whitespace\n"
     ]
    }
   ],
   "source": [
    "def trigonometric_pattern(x, n):\n",
    "    \"\"\"\n",
    "        Consider `k` where k = i*sin^i(x) + i*cos^i(x), 1 <= i <= n. Print `int(k)` $\n",
    "        symbols for all `i` from 1 to `n`. If k < 1, print 1 $ symbol.\n",
    "        \n",
    "        Example\n",
    "        -------\n",
    "        x = 90, n = 5\n",
    "        \n",
    "        $\n",
    "        $$\n",
    "        $$$\n",
    "        $$$$\n",
    "        $$$$$\n",
    "        \n",
    "        Parameters\n",
    "        ----------\n",
    "        x : float\n",
    "            Angle in degrees\n",
    "        n : integer\n",
    "            Number of times\n",
    "\n",
    "        Output\n",
    "        ------\n",
    "        Prints to stdout (default output)\n",
    "\n",
    "        Ideas\n",
    "        -----\n",
    "        Looping, math.sin, math.cos, math.pow\n",
    "    \"\"\"\n",
    "    for i in range(1,n+1):\n",
    "        k = i*(pow(math.sin(math.radians(x)),i)) + i*(pow(math.cos(math.radians(x)),i))\n",
    "        if k < 1:\n",
    "            print('$')\n",
    "        else:\n",
    "            print(int(k)*'$')        "
   ]
  },
  {
   "cell_type": "code",
   "execution_count": 8,
   "metadata": {},
   "outputs": [
    {
     "name": "stderr",
     "output_type": "stream",
     "text": [
      "2:25: E231 missing whitespace after ','\n"
     ]
    },
    {
     "name": "stdout",
     "output_type": "stream",
     "text": [
      "$\n",
      "$$\n",
      "$$$\n",
      "$$$$\n",
      "$$$$$\n"
     ]
    }
   ],
   "source": [
    "# Call your function here\n",
    "trigonometric_pattern(90,5)"
   ]
  },
  {
   "cell_type": "markdown",
   "metadata": {},
   "source": [
    "## Task 2"
   ]
  },
  {
   "cell_type": "markdown",
   "metadata": {},
   "source": [
    "Learn about data structures, exception handling and lambda functions."
   ]
  },
  {
   "cell_type": "markdown",
   "metadata": {},
   "source": [
    "**Question 1**"
   ]
  },
  {
   "cell_type": "code",
   "execution_count": 9,
   "metadata": {},
   "outputs": [],
   "source": [
    "dictionary = {'ant': 2, 'dog': 12, 'duck': 20, 'hen': 11, 'other': 99}"
   ]
  },
  {
   "cell_type": "code",
   "execution_count": 10,
   "metadata": {},
   "outputs": [],
   "source": [
    "keys = ['ant', 'cat', 'duck', 'hen', 'lion', 'zebra']"
   ]
  },
  {
   "cell_type": "code",
   "execution_count": 11,
   "metadata": {},
   "outputs": [
    {
     "name": "stderr",
     "output_type": "stream",
     "text": [
      "3:80: E501 line too long (89 > 79 characters)\n",
      "4:80: E501 line too long (86 > 79 characters)\n",
      "4:87: W291 trailing whitespace\n"
     ]
    }
   ],
   "source": [
    "def dictionary_lookup(dictionary, keys):\n",
    "    \"\"\"\n",
    "        For all elements in `keys`, print the value associated with them in `dictionary`.\n",
    "        Use exception handling to take care of a non-existent key, and print the value \n",
    "        associated with `other` instead. Use exception handling.\n",
    "\n",
    "        Parameters\n",
    "        ----------\n",
    "        dictionary : dict\n",
    "            Dictionary containing key-value pairs\n",
    "\n",
    "        keys : list\n",
    "            List of keys to lookup values for\n",
    "\n",
    "        Output\n",
    "        ------\n",
    "        Prints to stdout (default output)\n",
    "\n",
    "        Ideas\n",
    "        -----\n",
    "        try, except\n",
    "    \"\"\"\n",
    "    for ele in keys:\n",
    "        try:\n",
    "            print(dictionary[ele])\n",
    "        except KeyError:\n",
    "            print(dictionary['other'])"
   ]
  },
  {
   "cell_type": "code",
   "execution_count": 12,
   "metadata": {},
   "outputs": [
    {
     "name": "stderr",
     "output_type": "stream",
     "text": [
      "2:29: E231 missing whitespace after ','\n"
     ]
    },
    {
     "name": "stdout",
     "output_type": "stream",
     "text": [
      "2\n",
      "99\n",
      "20\n",
      "11\n",
      "99\n",
      "99\n"
     ]
    }
   ],
   "source": [
    "# Call your function here\n",
    "dictionary_lookup(dictionary,keys)"
   ]
  },
  {
   "cell_type": "markdown",
   "metadata": {},
   "source": [
    "**Question 2**"
   ]
  },
  {
   "cell_type": "code",
   "execution_count": 13,
   "metadata": {},
   "outputs": [],
   "source": [
    "data = [0.00, 0.12, 0.24, 0.36, 0.48, 0.52, 0.65, 0.50, 0.11, 0.09]"
   ]
  },
  {
   "cell_type": "code",
   "execution_count": 14,
   "metadata": {},
   "outputs": [
    {
     "name": "stderr",
     "output_type": "stream",
     "text": [
      "3:80: E501 line too long (86 > 79 characters)\n"
     ]
    }
   ],
   "source": [
    "def round_off(data):\n",
    "    \"\"\"\n",
    "        Round off values in `data` below the mean to 0, and those above the mean to 1,\n",
    "        and return the list of rounded values. Do not use looping statements.\n",
    "\n",
    "        Parameters\n",
    "        ----------\n",
    "        data : list\n",
    "            List of values to round off\n",
    "\n",
    "        Return\n",
    "        ------\n",
    "        List of rounded values\n",
    "        Note: You must return the list with rounded values, not just print it.\n",
    "\n",
    "        Ideas\n",
    "        -----\n",
    "        lambda, map\n",
    "    \"\"\"\n",
    "    mean = sum(data)/len(data)\n",
    "    return list(map(lambda ele: 0 if ele < mean else 1, data))"
   ]
  },
  {
   "cell_type": "code",
   "execution_count": 15,
   "metadata": {},
   "outputs": [
    {
     "data": {
      "text/plain": [
       "[0, 0, 0, 1, 1, 1, 1, 1, 0, 0]"
      ]
     },
     "execution_count": 15,
     "metadata": {},
     "output_type": "execute_result"
    }
   ],
   "source": [
    "# Call your function here - print the returned list to check your function\n",
    "round_off(data)"
   ]
  },
  {
   "cell_type": "markdown",
   "metadata": {},
   "source": [
    "**Question 3**"
   ]
  },
  {
   "cell_type": "code",
   "execution_count": 16,
   "metadata": {},
   "outputs": [
    {
     "name": "stderr",
     "output_type": "stream",
     "text": [
      "3:80: E501 line too long (85 > 79 characters)\n"
     ]
    }
   ],
   "source": [
    "def perfect_squares(n):\n",
    "    \"\"\"\n",
    "        Return a list of all perfect squares less than `n`, using list comprehension.\n",
    "\n",
    "        Parameters\n",
    "        ----------\n",
    "        n : integer\n",
    "            Limit value\n",
    "\n",
    "        Return\n",
    "        ------\n",
    "        List of all perfect squares less than `n`\n",
    "        Note: You must return the list with perfect squares, not just print it.\n",
    "\n",
    "        Ideas\n",
    "        -----\n",
    "        Looping, If, List Comprehension\n",
    "    \"\"\"\n",
    "    result = [i*i for i in range(n)]\n",
    "    return result"
   ]
  },
  {
   "cell_type": "code",
   "execution_count": 17,
   "metadata": {},
   "outputs": [
    {
     "data": {
      "text/plain": [
       "[0, 1, 4, 9, 16]"
      ]
     },
     "execution_count": 17,
     "metadata": {},
     "output_type": "execute_result"
    }
   ],
   "source": [
    "# Call your function name - print the returned list to check your function\n",
    "perfect_squares(5)"
   ]
  },
  {
   "cell_type": "markdown",
   "metadata": {},
   "source": [
    "Once you're done, move on to Module 2. Nice work!"
   ]
  }
 ],
 "metadata": {
  "kernelspec": {
   "display_name": "Python 3.9 (tensorflow)",
   "language": "python",
   "name": "tensorflow"
  },
  "language_info": {
   "codemirror_mode": {
    "name": "ipython",
    "version": 3
   },
   "file_extension": ".py",
   "mimetype": "text/x-python",
   "name": "python",
   "nbconvert_exporter": "python",
   "pygments_lexer": "ipython3",
   "version": "3.9.10"
  }
 },
 "nbformat": 4,
 "nbformat_minor": 2
}
