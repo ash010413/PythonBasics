{
  "cells": [
    {
      "cell_type": "markdown",
      "metadata": {
        "id": "k9AeQCU0r8NY"
      },
      "source": [
        "# Python Basics"
      ]
    },
    {
      "cell_type": "markdown",
      "metadata": {
        "id": "Ioj5P1xRr8NZ"
      },
      "source": [
        "These assignments aim to get you acquainted with Python, which is an important requirement for all the research done at Solarillion Foundation. Apart from teaching you Python, these assignments also aim to make you a better programmer and cultivate better coding practices. \n",
        "\n",
        "Visit these links for more details: <br>\n",
        "PEP8 Practices: https://www.python.org/dev/peps/pep-0008/ <br>\n",
        "Check PEP8: http://pep8online.com <br>\n",
        "Python Reference: https://www.py4e.com/lessons <br>\n",
        "\n",
        "Do use Google efficiently, and refer to StackOverflow for clarifying any programming doubts. If you're still stuck, feel free to ask a TA to help you.\n",
        "\n",
        "Each task in the assignment comprises of at least two cells. There are function definitions wherein you will name the function(s), and write code to solve the problem at hand. You will call the function(s) in the last cell of each task, and check your output.\n",
        "\n",
        "We encourage you to play around and learn as much as possible, and be as creative as you can get. More than anything, have fun doing these assignments. Enjoy!"
      ]
    },
    {
      "cell_type": "markdown",
      "metadata": {
        "id": "2I68mmCHr8Nb"
      },
      "source": [
        "# Important\n",
        "* **Only the imports and functions must be present when you upload this notebook to GitHub for verification.** \n",
        "* **Do not upload it until you want to get it verified. Do not change function names or add extra cells or code, or remove anything.**\n",
        "* **For your rough work and four showing your code to TAs, use a different notebook with the name Module2Playground.ipynb and copy only the final functions to this notebook for verification.**"
      ]
    },
    {
      "cell_type": "markdown",
      "metadata": {
        "id": "Sq-b3VbZr8Nb"
      },
      "source": [
        "# Module 3\n",
        "Scope: Algorithmic Thinking, Programming"
      ]
    },
    {
      "cell_type": "markdown",
      "metadata": {
        "id": "aCmSC58zr8Nc"
      },
      "source": [
        "## Imports - Always Execute First!\n",
        "Import any modules and turn on any magic here:"
      ]
    },
    {
      "cell_type": "code",
      "source": [
        "!pip install pycodestyle_magic\n",
        "!pip install pycodestyle\n",
        "!pip install flake8"
      ],
      "metadata": {
        "colab": {
          "base_uri": "https://localhost:8080/"
        },
        "id": "Cq7DGibCsDXd",
        "outputId": "7f51627f-6a55-4f35-8c27-9cec71e94c0b"
      },
      "execution_count": 14,
      "outputs": [
        {
          "output_type": "stream",
          "name": "stdout",
          "text": [
            "Looking in indexes: https://pypi.org/simple, https://us-python.pkg.dev/colab-wheels/public/simple/\n",
            "Collecting pycodestyle_magic\n",
            "  Downloading pycodestyle_magic-0.5-py2.py3-none-any.whl (9.5 kB)\n",
            "Installing collected packages: pycodestyle-magic\n",
            "Successfully installed pycodestyle-magic-0.5\n",
            "Looking in indexes: https://pypi.org/simple, https://us-python.pkg.dev/colab-wheels/public/simple/\n",
            "Collecting pycodestyle\n",
            "  Downloading pycodestyle-2.9.1-py2.py3-none-any.whl (41 kB)\n",
            "\u001b[K     |████████████████████████████████| 41 kB 323 kB/s \n",
            "\u001b[?25hInstalling collected packages: pycodestyle\n",
            "Successfully installed pycodestyle-2.9.1\n",
            "Looking in indexes: https://pypi.org/simple, https://us-python.pkg.dev/colab-wheels/public/simple/\n",
            "Collecting flake8\n",
            "  Downloading flake8-5.0.4-py2.py3-none-any.whl (61 kB)\n",
            "\u001b[K     |████████████████████████████████| 61 kB 473 kB/s \n",
            "\u001b[?25hCollecting mccabe<0.8.0,>=0.7.0\n",
            "  Downloading mccabe-0.7.0-py2.py3-none-any.whl (7.3 kB)\n",
            "Requirement already satisfied: pycodestyle<2.10.0,>=2.9.0 in /usr/local/lib/python3.7/dist-packages (from flake8) (2.9.1)\n",
            "Collecting importlib-metadata<4.3,>=1.1.0\n",
            "  Downloading importlib_metadata-4.2.0-py3-none-any.whl (16 kB)\n",
            "Collecting pyflakes<2.6.0,>=2.5.0\n",
            "  Downloading pyflakes-2.5.0-py2.py3-none-any.whl (66 kB)\n",
            "\u001b[K     |████████████████████████████████| 66 kB 4.6 MB/s \n",
            "\u001b[?25hRequirement already satisfied: typing-extensions>=3.6.4 in /usr/local/lib/python3.7/dist-packages (from importlib-metadata<4.3,>=1.1.0->flake8) (4.1.1)\n",
            "Requirement already satisfied: zipp>=0.5 in /usr/local/lib/python3.7/dist-packages (from importlib-metadata<4.3,>=1.1.0->flake8) (3.10.0)\n",
            "Installing collected packages: pyflakes, mccabe, importlib-metadata, flake8\n",
            "  Attempting uninstall: importlib-metadata\n",
            "    Found existing installation: importlib-metadata 4.13.0\n",
            "    Uninstalling importlib-metadata-4.13.0:\n",
            "      Successfully uninstalled importlib-metadata-4.13.0\n",
            "\u001b[31mERROR: pip's dependency resolver does not currently take into account all the packages that are installed. This behaviour is the source of the following dependency conflicts.\n",
            "markdown 3.4.1 requires importlib-metadata>=4.4; python_version < \"3.10\", but you have importlib-metadata 4.2.0 which is incompatible.\n",
            "gym 0.25.2 requires importlib-metadata>=4.8.0; python_version < \"3.10\", but you have importlib-metadata 4.2.0 which is incompatible.\u001b[0m\n",
            "Successfully installed flake8-5.0.4 importlib-metadata-4.2.0 mccabe-0.7.0 pyflakes-2.5.0\n"
          ]
        }
      ]
    },
    {
      "cell_type": "code",
      "execution_count": 15,
      "metadata": {
        "id": "na4G7RiHr8Nc"
      },
      "outputs": [],
      "source": [
        "from IPython import get_ipython\n",
        "ipy = get_ipython()\n",
        "if ipy is not None:\n",
        "    ipy.run_line_magic(\"load_ext\", \"pycodestyle_magic\")\n",
        "    ipy.run_line_magic(\"pycodestyle_on\", \"\")"
      ]
    },
    {
      "cell_type": "code",
      "source": [
        "import string\n",
        "import random"
      ],
      "metadata": {
        "id": "viWWaoUZv_h8"
      },
      "execution_count": 16,
      "outputs": []
    },
    {
      "cell_type": "markdown",
      "metadata": {
        "id": "VLOIaTqbr8Nd"
      },
      "source": [
        "## Burger Mania"
      ]
    },
    {
      "cell_type": "code",
      "execution_count": 4,
      "metadata": {
        "id": "9LFEw6GHr8Ne",
        "colab": {
          "base_uri": "https://localhost:8080/",
          "height": 106
        },
        "outputId": "847d999a-c918-4a49-8529-9e1e2eb4192b"
      },
      "outputs": [
        {
          "output_type": "execute_result",
          "data": {
            "text/plain": [
              "\"\\nImagine that you are a restaurant's cashier and are trying to keep records for analysing profits.\\n\\nYour restaurant sells 7 different items:\\n    1. Burgers - $4.25\\n    2. Nuggets - $2.50\\n    3. French Fries - $2.00\\n    4. Small Drink - $1.25\\n    5. Medium Drink - $1.50\\n    6. Large Drink - $1.75\\n    7. Salad - $3.75\\n\\nCreate a program to randomly generate the orders of each customer as a string of numbers\\n(corresponding to the item) and calculate the cost of the order. For example, if the generated\\nstring is 5712335, the program should understand that the customer has ordered 1 burger, 1 \\nportion of nuggets, 2 portions of fries, 2 medium drinks and 1 salad. It should then compute the\\ncost ($17.50). The final cost is calculated after considering discounts for combo offers and\\nadding 18% GST.\\n\\nThe combo offers are:\\nA) 1 Burger + 1 Portion of Fries + 1 Drink -> 20% discount\\nB) 1 Burger + 1 Portion of Nuggets + 1 Salad + 1 Drink -> 35% discount\\n\\nThe final cost of the 5712335 order is $13.4225. The profit gained each day has to be recorded for\\n30 days and plotted for analysis.\\n\\nNote:\\n    - There will be at least 20 customers and not more than 50 customers per day. Each customer\\n      orders at least 3 items and not more than 7 items.\\n    - If there is a possibility of availing multiple combo offers in an order, the program\\n      should select the offer with maximum discount.\\n\""
            ],
            "application/vnd.google.colaboratory.intrinsic+json": {
              "type": "string"
            }
          },
          "metadata": {},
          "execution_count": 4
        }
      ],
      "source": [
        "\"\"\"\n",
        "Imagine that you are a restaurant's cashier and are trying to keep records for analysing profits.\n",
        "\n",
        "Your restaurant sells 7 different items:\n",
        "    1. Burgers - $4.25\n",
        "    2. Nuggets - $2.50\n",
        "    3. French Fries - $2.00\n",
        "    4. Small Drink - $1.25\n",
        "    5. Medium Drink - $1.50\n",
        "    6. Large Drink - $1.75\n",
        "    7. Salad - $3.75\n",
        "\n",
        "Create a program to randomly generate the orders of each customer as a string of numbers\n",
        "(corresponding to the item) and calculate the cost of the order. For example, if the generated\n",
        "string is 5712335, the program should understand that the customer has ordered 1 burger, 1 \n",
        "portion of nuggets, 2 portions of fries, 2 medium drinks and 1 salad. It should then compute the\n",
        "cost ($17.50). The final cost is calculated after considering discounts for combo offers and\n",
        "adding 18% GST.\n",
        "\n",
        "The combo offers are:\n",
        "A) 1 Burger + 1 Portion of Fries + 1 Drink -> 20% discount\n",
        "B) 1 Burger + 1 Portion of Nuggets + 1 Salad + 1 Drink -> 35% discount\n",
        "\n",
        "The final cost of the 5712335 order is $13.4225. The profit gained each day has to be recorded for\n",
        "30 days and plotted for analysis.\n",
        "\n",
        "Note:\n",
        "    - There will be at least 20 customers and not more than 50 customers per day. Each customer\n",
        "      orders at least 3 items and not more than 7 items.\n",
        "    - If there is a possibility of availing multiple combo offers in an order, the program\n",
        "      should select the offer with maximum discount.\n",
        "\"\"\""
      ]
    },
    {
      "cell_type": "code",
      "source": [
        "MIN_CUSTOMERS = 20\n",
        "MAX_CUSTOMERS = 50"
      ],
      "metadata": {
        "id": "lOyyGmZ_ejXM"
      },
      "execution_count": 5,
      "outputs": []
    },
    {
      "cell_type": "code",
      "source": [
        "MIN_NO_ITEMS = 3\n",
        "MAX_NO_ITEMS = 8"
      ],
      "metadata": {
        "id": "HR48IXxX3UfL"
      },
      "execution_count": 6,
      "outputs": []
    },
    {
      "cell_type": "code",
      "source": [
        "COST = [4.25, 2.5, 2, 1.25, 1.5, 1.75, 3.75]"
      ],
      "metadata": {
        "id": "er_KCNJMcELl"
      },
      "execution_count": 61,
      "outputs": []
    },
    {
      "cell_type": "code",
      "source": [
        "COMBO1_1 = set(['1','3','4'])\n",
        "COMBO1_2 = set(['1','3','5'])\n",
        "COMBO1_3 = set(['1','3','6'])\n",
        "COMBO2_1 = set(['1','2','7','4'])\n",
        "COMBO2_2 = set(['1','2','7','5'])\n",
        "COMBO2_3 = set(['1','2','7','6'])"
      ],
      "metadata": {
        "colab": {
          "base_uri": "https://localhost:8080/"
        },
        "id": "C31_SFHkCsRm",
        "outputId": "59251ae2-0831-463a-cb37-56b24a2c4e94"
      },
      "execution_count": 62,
      "outputs": [
        {
          "output_type": "stream",
          "name": "stderr",
          "text": [
            "INFO:pycodestyle:1:20: E231 missing whitespace after ','\n",
            "INFO:pycodestyle:1:24: E231 missing whitespace after ','\n",
            "INFO:pycodestyle:2:20: E231 missing whitespace after ','\n",
            "INFO:pycodestyle:2:24: E231 missing whitespace after ','\n",
            "INFO:pycodestyle:3:20: E231 missing whitespace after ','\n",
            "INFO:pycodestyle:3:24: E231 missing whitespace after ','\n",
            "INFO:pycodestyle:4:20: E231 missing whitespace after ','\n",
            "INFO:pycodestyle:4:24: E231 missing whitespace after ','\n",
            "INFO:pycodestyle:4:28: E231 missing whitespace after ','\n",
            "INFO:pycodestyle:5:20: E231 missing whitespace after ','\n",
            "INFO:pycodestyle:5:24: E231 missing whitespace after ','\n",
            "INFO:pycodestyle:5:28: E231 missing whitespace after ','\n",
            "INFO:pycodestyle:6:20: E231 missing whitespace after ','\n",
            "INFO:pycodestyle:6:24: E231 missing whitespace after ','\n",
            "INFO:pycodestyle:6:28: E231 missing whitespace after ','\n"
          ]
        }
      ]
    },
    {
      "cell_type": "code",
      "execution_count": 63,
      "metadata": {
        "colab": {
          "base_uri": "https://localhost:8080/"
        },
        "id": "LZmslm3Hr8Ne",
        "outputId": "2afa60ec-707e-4b89-89dc-94d46e6a457c"
      },
      "outputs": [
        {
          "output_type": "stream",
          "name": "stderr",
          "text": [
            "INFO:pycodestyle:6:44: E231 missing whitespace after ','\n",
            "INFO:pycodestyle:6:76: E231 missing whitespace after ','\n",
            "INFO:pycodestyle:6:80: E501 line too long (93 > 79 characters)\n"
          ]
        }
      ],
      "source": [
        "def generate_order():\n",
        "    \"\"\"\n",
        "        Function 1: generate_order()\n",
        "        Return: A randomly generated order string\n",
        "    \"\"\"\n",
        "    return ''.join(random.choices('1234567',k=random.randrange(MIN_NO_ITEMS,MAX_NO_ITEMS+1)))"
      ]
    },
    {
      "cell_type": "code",
      "source": [
        "order = generate_order()"
      ],
      "metadata": {
        "id": "C9SSVSkLwFFI"
      },
      "execution_count": 64,
      "outputs": []
    },
    {
      "cell_type": "code",
      "source": [
        "order"
      ],
      "metadata": {
        "colab": {
          "base_uri": "https://localhost:8080/",
          "height": 37
        },
        "id": "lZzAgeS9DYLi",
        "outputId": "1cbb9603-878c-48e1-f454-f3b0cf79e89a"
      },
      "execution_count": 65,
      "outputs": [
        {
          "output_type": "execute_result",
          "data": {
            "text/plain": [
              "'113771'"
            ],
            "application/vnd.google.colaboratory.intrinsic+json": {
              "type": "string"
            }
          },
          "metadata": {},
          "execution_count": 65
        }
      ]
    },
    {
      "cell_type": "code",
      "execution_count": 66,
      "metadata": {
        "colab": {
          "base_uri": "https://localhost:8080/"
        },
        "id": "H562UshTr8Nf",
        "outputId": "2eaf6764-06f1-4160-ca0d-2c3c59ca55a6"
      },
      "outputs": [
        {
          "output_type": "stream",
          "name": "stderr",
          "text": [
            "INFO:pycodestyle:10:7: E111 indentation is not a multiple of 4\n",
            "INFO:pycodestyle:12:7: E111 indentation is not a multiple of 4\n",
            "INFO:pycodestyle:13:7: E111 indentation is not a multiple of 4\n",
            "INFO:pycodestyle:14:80: E501 line too long (106 > 79 characters)\n",
            "INFO:pycodestyle:15:7: E114 indentation is not a multiple of 4 (comment)\n",
            "INFO:pycodestyle:16:7: E111 indentation is not a multiple of 4\n",
            "INFO:pycodestyle:17:80: E501 line too long (108 > 79 characters)\n",
            "INFO:pycodestyle:18:7: E114 indentation is not a multiple of 4 (comment)\n",
            "INFO:pycodestyle:19:7: E111 indentation is not a multiple of 4\n"
          ]
        }
      ],
      "source": [
        "def compute_cost(order):\n",
        "    \"\"\"\n",
        "        Function 2: compute_cost(order)\n",
        "        Parameters: order (String)\n",
        "        Return: Final cost of order\n",
        "    \"\"\"\n",
        "    dict = {}\n",
        "    cost = 0\n",
        "    for item in order:\n",
        "      dict[item] = 0\n",
        "    for item in order:\n",
        "      cost += COST[int(item)-1]\n",
        "      dict[item] += 1\n",
        "    if COMBO2_1.issubset(dict.keys()) or COMBO2_2.issubset(dict.keys()) or COMBO2_3.issubset(dict.keys()):\n",
        "      # print('35% discount')\n",
        "      cost -= 0.35*cost\n",
        "    elif COMBO1_1.issubset(dict.keys()) or COMBO1_2.issubset(dict.keys()) or COMBO1_3.issubset(dict.keys()):\n",
        "      # print('20% discount')\n",
        "      cost -= 0.2*cost\n",
        "    cost += 0.18*cost\n",
        "    return cost"
      ]
    },
    {
      "cell_type": "code",
      "source": [
        "compute_cost(order)"
      ],
      "metadata": {
        "colab": {
          "base_uri": "https://localhost:8080/"
        },
        "id": "D8N-wsmIdoAh",
        "outputId": "dab6c66f-cfba-4846-a5ea-4e26f755c53a"
      },
      "execution_count": 67,
      "outputs": [
        {
          "output_type": "execute_result",
          "data": {
            "text/plain": [
              "26.255"
            ]
          },
          "metadata": {},
          "execution_count": 67
        }
      ]
    },
    {
      "cell_type": "code",
      "source": [
        "import matplotlib.pyplot as plt"
      ],
      "metadata": {
        "id": "U0POBSaQajBn"
      },
      "execution_count": 68,
      "outputs": []
    },
    {
      "cell_type": "code",
      "execution_count": 69,
      "metadata": {
        "id": "AOuuhxv6r8Nf",
        "colab": {
          "base_uri": "https://localhost:8080/"
        },
        "outputId": "b6fc5d92-e522-47b0-d3fa-56262280bd11"
      },
      "outputs": [
        {
          "output_type": "stream",
          "name": "stderr",
          "text": [
            "INFO:pycodestyle:4:80: E501 line too long (93 > 79 characters)\n",
            "INFO:pycodestyle:11:7: E111 indentation is not a multiple of 4\n",
            "INFO:pycodestyle:12:7: E111 indentation is not a multiple of 4\n",
            "INFO:pycodestyle:12:57: E231 missing whitespace after ','\n",
            "INFO:pycodestyle:16:7: E111 indentation is not a multiple of 4\n"
          ]
        }
      ],
      "source": [
        "def simulate_restaurant():\n",
        "    \"\"\"\n",
        "        Function 3: simulate_restaurant()\n",
        "        Purpose: Simulate the restaurant's operation using the previously declared functions,\n",
        "                 based on the constraints mentioned in the question\n",
        "        Output: Plot of profit over 30 days\n",
        "    \"\"\"\n",
        "    profit = []\n",
        "    dict = {}\n",
        "    for day in range(30):\n",
        "      cost_of_day = 0\n",
        "      for customer in range(random.randint(MIN_CUSTOMERS,MAX_CUSTOMERS)):\n",
        "        order = generate_order()\n",
        "        cost_of_order = compute_cost(order)\n",
        "        cost_of_day += cost_of_order\n",
        "      profit.append(cost_of_day)\n",
        "    plt.plot(profit)\n",
        "    plt.show()\n",
        "    return profit"
      ]
    },
    {
      "cell_type": "code",
      "source": [
        "simulate_restaurant()"
      ],
      "metadata": {
        "colab": {
          "base_uri": "https://localhost:8080/",
          "height": 775
        },
        "id": "PYU1DuXvZJWq",
        "outputId": "c1c3a0c0-e376-4fea-8dc7-b1c18513d8ec"
      },
      "execution_count": 70,
      "outputs": [
        {
          "output_type": "display_data",
          "data": {
            "text/plain": [
              "<Figure size 432x288 with 1 Axes>"
            ],
            "image/png": "[encoded data removed]"
          },
          "metadata": {
            "needs_background": "light"
          }
        },
        {
          "output_type": "execute_result",
          "data": {
            "text/plain": [
              "[392.24675,\n",
              " 664.6939999999998,\n",
              " 303.3042500000001,\n",
              " 547.8002499999999,\n",
              " 610.4140000000002,\n",
              " 611.37275,\n",
              " 708.5015,\n",
              " 523.2562499999999,\n",
              " 529.7462499999999,\n",
              " 468.43050000000005,\n",
              " 313.2900000000001,\n",
              " 362.8205000000001,\n",
              " 483.28375000000017,\n",
              " 416.96775,\n",
              " 671.52325,\n",
              " 721.4962500000001,\n",
              " 689.0757500000003,\n",
              " 423.63475,\n",
              " 260.94225,\n",
              " 287.75775,\n",
              " 488.65275,\n",
              " 466.97024999999996,\n",
              " 397.0110000000001,\n",
              " 543.16875,\n",
              " 708.6194999999998,\n",
              " 256.50250000000005,\n",
              " 292.00575,\n",
              " 629.3529999999998,\n",
              " 255.49949999999995,\n",
              " 378.67674999999997]"
            ]
          },
          "metadata": {},
          "execution_count": 70
        }
      ]
    },
    {
      "cell_type": "markdown",
      "metadata": {
        "id": "IyCjFLM8r8Ng"
      },
      "source": [
        "You're done with the Basics of Python! Give yourself a pat on the back.\n",
        "\n",
        "Now, choose an area you want to work on - Machine Learning, Internet of Things or Microgrids - and get started with the assignments. You could also choose to do assignments from multiple areas, it's entirely up to you. Hope you have fun!"
      ]
    }
  ],
  "metadata": {
    "kernelspec": {
      "display_name": "Python 3",
      "language": "python",
      "name": "python3"
    },
    "language_info": {
      "codemirror_mode": {
        "name": "ipython",
        "version": 3
      },
      "file_extension": ".py",
      "mimetype": "text/x-python",
      "name": "python",
      "nbconvert_exporter": "python",
      "pygments_lexer": "ipython3",
      "version": "3.8.0"
    },
    "colab": {
      "provenance": [],
      "collapsed_sections": []
    }
  },
  "nbformat": 4,
  "nbformat_minor": 0
}